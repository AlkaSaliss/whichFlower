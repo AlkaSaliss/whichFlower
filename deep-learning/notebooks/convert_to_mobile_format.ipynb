{
 "cells": [
  {
   "cell_type": "markdown",
   "metadata": {},
   "source": [
    "### Converting keras model to tflite mobile format\n",
    "\n",
    "In this notebook, I'm trying to show how to convert flower species classification model trained with keras into a format suitable for running inference on mobile devices."
   ]
  },
  {
   "cell_type": "markdown",
   "metadata": {},
   "source": [
    "Import some modules :"
   ]
  },
  {
   "cell_type": "code",
   "execution_count": 1,
   "metadata": {},
   "outputs": [
    {
     "name": "stdout",
     "output_type": "stream",
     "text": [
      "tensorflow version : 2.0.0-dev20190718\n"
     ]
    }
   ],
   "source": [
    "import tensorflow as tf\n",
    "print(f'tensorflow version : {tf.__version__}')"
   ]
  },
  {
   "cell_type": "markdown",
   "metadata": {},
   "source": [
    "Next, we load the saved keras model we would like to convert :"
   ]
  },
  {
   "cell_type": "code",
   "execution_count": 2,
   "metadata": {
    "scrolled": true
   },
   "outputs": [
    {
     "name": "stderr",
     "output_type": "stream",
     "text": [
      "WARNING: Logging before flag parsing goes to stderr.\n",
      "W0719 13:58:41.097163 13952 hdf5_format.py:171] No training configuration found in save file: the model was *not* compiled. Compile it manually.\n"
     ]
    }
   ],
   "source": [
    "baseline_data_aug = '../assets/simple_cnn_tpu_dataaug.h5'\n",
    "\n",
    "model1 = tf.keras.models.load_model(baseline_data_aug)"
   ]
  },
  {
   "cell_type": "markdown",
   "metadata": {},
   "source": []
  },
  {
   "cell_type": "markdown",
   "metadata": {},
   "source": [
    "And finally we convert the models to tensorflow lite format and save them :"
   ]
  },
  {
   "cell_type": "code",
   "execution_count": 9,
   "metadata": {},
   "outputs": [
    {
     "name": "stdout",
     "output_type": "stream",
     "text": [
      "Wall time: 16.2 s\n"
     ]
    }
   ],
   "source": [
    "%%time\n",
    "\n",
    "converter1 = tf.lite.TFLiteConverter.from_keras_model(model1)\n",
    "converter1.optimizations = [tf.lite.Optimize.OPTIMIZE_FOR_SIZE] # this line helps reduce model size\n",
    "tflite_model1 = converter1.convert()\n",
    "open(\"../assets/baseline_data_aug.tflite\", \"wb\").write(tflite_model1)"
   ]
  }
 ],
 "metadata": {
  "kernelspec": {
   "display_name": "env_vision",
   "language": "python",
   "name": "env_vision"
  },
  "language_info": {
   "codemirror_mode": {
    "name": "ipython",
    "version": 3
   },
   "file_extension": ".py",
   "mimetype": "text/x-python",
   "name": "python",
   "nbconvert_exporter": "python",
   "pygments_lexer": "ipython3",
   "version": "3.6.8"
  }
 },
 "nbformat": 4,
 "nbformat_minor": 2
}
